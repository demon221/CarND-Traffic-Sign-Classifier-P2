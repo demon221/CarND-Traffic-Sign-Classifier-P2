{
 "cells": [
  {
   "cell_type": "markdown",
   "metadata": {},
   "source": [
    "# Self-Driving Car Engineer Nanodegree\n",
    "\n",
    "## Deep Learning\n",
    "\n",
    "## Project: Build a Traffic Sign Recognition Classifier\n",
    "\n",
    "In this notebook, a template is provided for you to implement your functionality in stages, which is required to successfully complete this project. If additional code is required that cannot be included in the notebook, be sure that the Python code is successfully imported and included in your submission if necessary. \n",
    "\n",
    "> **Note**: Once you have completed all of the code implementations, you need to finalize your work by exporting the iPython Notebook as an HTML document. Before exporting the notebook to html, all of the code cells need to have been run so that reviewers can see the final implementation and output. You can then export the notebook by using the menu above and navigating to  \\n\",\n",
    "    \"**File -> Download as -> HTML (.html)**. Include the finished document along with this notebook as your submission. \n",
    "\n",
    "In addition to implementing code, there is a writeup to complete. The writeup should be completed in a separate file, which can be either a markdown file or a pdf document. There is a [write up template](https://github.com/udacity/CarND-Traffic-Sign-Classifier-Project/blob/master/writeup_template.md) that can be used to guide the writing process. Completing the code template and writeup template will cover all of the [rubric points](https://review.udacity.com/#!/rubrics/481/view) for this project.\n",
    "\n",
    "The [rubric](https://review.udacity.com/#!/rubrics/481/view) contains \"Stand Out Suggestions\" for enhancing the project beyond the minimum requirements. The stand out suggestions are optional. If you decide to pursue the \"stand out suggestions\", you can include the code in this Ipython notebook and also discuss the results in the writeup file.\n",
    "\n",
    "\n",
    ">**Note:** Code and Markdown cells can be executed using the **Shift + Enter** keyboard shortcut. In addition, Markdown cells can be edited by typically double-clicking the cell to enter edit mode."
   ]
  },
  {
   "cell_type": "markdown",
   "metadata": {},
   "source": [
    "---\n",
    "## Step 0: Load The Data"
   ]
  },
  {
   "cell_type": "code",
   "execution_count": 1,
   "metadata": {},
   "outputs": [
    {
     "name": "stdout",
     "output_type": "stream",
     "text": [
      "Dataset loaded\n"
     ]
    }
   ],
   "source": [
    "# Load pickled data\n",
    "import pickle\n",
    "import cv2\n",
    "import tensorflow as tf\n",
    "import numpy as np\n",
    "import random\n",
    "import matplotlib.pyplot as plt\n",
    "\n",
    "# Visualizations will be shown in the notebook.\n",
    "%matplotlib inline\n",
    "\n",
    "from sklearn.utils import shuffle\n",
    "from tensorflow.contrib.layers import flatten\n",
    "\n",
    "# TODO: Fill this in based on where you saved the training and testing data\n",
    "\n",
    "training_file = './data/train.p'\n",
    "validation_file= './data/valid.p'\n",
    "testing_file = './data/test.p'\n",
    "\n",
    "with open(training_file, mode='rb') as f:\n",
    "    train = pickle.load(f)\n",
    "with open(validation_file, mode='rb') as f:\n",
    "    valid = pickle.load(f)\n",
    "with open(testing_file, mode='rb') as f:\n",
    "    test = pickle.load(f)\n",
    "    \n",
    "\n",
    "X_train, y_train = train['features'], train['labels']\n",
    "X_valid, y_valid = valid['features'], valid['labels']\n",
    "X_test, y_test = test['features'], test['labels']\n",
    "\n",
    "print('Dataset loaded')"
   ]
  },
  {
   "cell_type": "markdown",
   "metadata": {},
   "source": [
    "---\n",
    "\n",
    "## Step 1: Dataset Summary & Exploration\n",
    "\n",
    "The pickled data is a dictionary with 4 key/value pairs:\n",
    "\n",
    "- `'features'` is a 4D array containing raw pixel data of the traffic sign images, (num examples, width, height, channels).\n",
    "- `'labels'` is a 1D array containing the label/class id of the traffic sign. The file `signnames.csv` contains id -> name mappings for each id.\n",
    "- `'sizes'` is a list containing tuples, (width, height) representing the original width and height the image.\n",
    "- `'coords'` is a list containing tuples, (x1, y1, x2, y2) representing coordinates of a bounding box around the sign in the image. **THESE COORDINATES ASSUME THE ORIGINAL IMAGE. THE PICKLED DATA CONTAINS RESIZED VERSIONS (32 by 32) OF THESE IMAGES**\n",
    "\n",
    "Complete the basic data summary below. Use python, numpy and/or pandas methods to calculate the data summary rather than hard coding the results. For example, the [pandas shape method](http://pandas.pydata.org/pandas-docs/stable/generated/pandas.DataFrame.shape.html) might be useful for calculating some of the summary results. "
   ]
  },
  {
   "cell_type": "markdown",
   "metadata": {},
   "source": [
    "### Provide a Basic Summary of the Data Set Using Python, Numpy and/or Pandas"
   ]
  },
  {
   "cell_type": "code",
   "execution_count": 2,
   "metadata": {},
   "outputs": [
    {
     "name": "stdout",
     "output_type": "stream",
     "text": [
      "Number of training examples = 34799\nNumber of validation examples = 4410\nNumber of testing examples = 12630\nImage data shape = (32, 32, 3)\nNumber of classes = 43\n"
     ]
    }
   ],
   "source": [
    "### Replace each question mark with the appropriate value. \n",
    "### Use python, pandas or numpy methods rather than hard coding the results\n",
    "\n",
    "# TODO: Number of training examples\n",
    "n_train = X_train.shape[0]\n",
    "\n",
    "# TODO: Number of validation examples\n",
    "n_validation = X_valid.shape[0]\n",
    "\n",
    "# TODO: Number of testing examples.\n",
    "n_test = X_test.shape[0]\n",
    "\n",
    "# TODO: What's the shape of an traffic sign image?\n",
    "image_shape = X_train.shape[1:4]\n",
    "\n",
    "# TODO: How many unique classes/labels there are in the dataset.\n",
    "n_classes = len(set(y_train))\n",
    "\n",
    "\n",
    "print(\"Number of training examples =\", n_train)\n",
    "print(\"Number of validation examples =\", n_validation)\n",
    "print(\"Number of testing examples =\", n_test)\n",
    "print(\"Image data shape =\", image_shape)\n",
    "print(\"Number of classes =\", n_classes)"
   ]
  },
  {
   "cell_type": "markdown",
   "metadata": {},
   "source": [
    "### Include an exploratory visualization of the dataset"
   ]
  },
  {
   "cell_type": "markdown",
   "metadata": {},
   "source": [
    "Visualize the German Traffic Signs Dataset using the pickled file(s). This is open ended, suggestions include: plotting traffic sign images, plotting the count of each sign, etc. \n",
    "\n",
    "The [Matplotlib](http://matplotlib.org/) [examples](http://matplotlib.org/examples/index.html) and [gallery](http://matplotlib.org/gallery.html) pages are a great resource for doing visualizations in Python.\n",
    "\n",
    "**NOTE:** It's recommended you start with something simple first. If you wish to do more, come back to it after you've completed the rest of the sections. It can be interesting to look at the distribution of classes in the training, validation and test set. Is the distribution the same? Are there more examples of some classes than others?"
   ]
  },
  {
   "cell_type": "code",
   "execution_count": 24,
   "metadata": {},
   "outputs": [],
   "source": [
    "### Data exploration visualization code goes here.\n",
    "### Feel free to use as many code cells as needed.\n",
    "\n",
    "# Visualize each traffic sign ones\n",
    "signs = []\n",
    "printed = []\n",
    "for index, val in enumerate(y_train):\n",
    "    if val not in printed:\n",
    "        printed.append(val)\n",
    "        signs.append((val, index))\n",
    "        \n",
    "signs.sort(key=lambda tup: tup[0])\n",
    "\n",
    "fig = plt.figure()\n",
    "fig.set_figwidth(12)\n",
    "fig.set_figheight(5)\n",
    "\n",
    "for index, sign in enumerate(signs):\n",
    "    ax = fig.add_subplot(5, 10, index + 1)\n",
    "    ax.axis('off')\n",
    "    ax.set_xlabel(sign[0])\n",
    "    ax.imshow(X_train[sign[1]].squeeze())"
   ]
  },
  {
   "cell_type": "markdown",
   "metadata": {},
   "source": [
    "Display histogram to show class/label distribution across training data"
   ]
  },
  {
   "cell_type": "code",
   "execution_count": 4,
   "metadata": {},
   "outputs": [
    {
     "data": {
      "image/png": "[encoded data removed]",
      "text/plain": [
       "<matplotlib.figure.Figure at 0x1d9d2dd19b0>"
      ]
     },
     "metadata": {},
     "output_type": "display_data"
    },
    {
     "name": "stdout",
     "output_type": "stream",
     "text": [
      "[  180.  1980.  2010.  1260.  1770.  1650.   360.  1290.  1260.  1320.\n  1800.  1170.  1890.  1920.   690.   540.   360.   990.  1080.   180.\n   300.   270.   330.   450.   240.  1350.   540.   210.   480.   240.\n   390.   690.   210.   599.   360.  1080.   330.   180.  1860.   270.\n   300.   210.   210.]\n"
     ]
    }
   ],
   "source": [
    "# Visulization of the histogram\n",
    "images_per_class_train, bins, _ = plt.hist(y_train,bins=range(n_classes+1), rwidth=0.8)\n",
    "plt.title('Training data histogram')\n",
    "plt.xlabel('Class')\n",
    "plt.ylabel('Counter')\n",
    "plt.axis([0, 43, 0, 2500])\n",
    "plt.show()\n",
    "\n",
    "print(images_per_class_train)"
   ]
  },
  {
   "cell_type": "markdown",
   "metadata": {},
   "source": [
    "Display histogram to show class/label distribution across valitation data"
   ]
  },
  {
   "cell_type": "code",
   "execution_count": 5,
   "metadata": {},
   "outputs": [
    {
     "data": {
      "image/png": "[encoded data removed]",
      "text/plain": [
       "<matplotlib.figure.Figure at 0x1f2751b6860>"
      ]
     },
     "metadata": {},
     "output_type": "display_data"
    }
   ],
   "source": [
    "# Visulization of the histogram\n",
    "images_per_class_valid, bins, _ = plt.hist(y_valid,bins=range(n_classes+1), rwidth=0.8)\n",
    "plt.title('Validation data histogram')\n",
    "plt.xlabel('Class')\n",
    "plt.ylabel('Counter')\n",
    "plt.axis([0, 43, 0, 300])\n",
    "plt.show()"
   ]
  },
  {
   "cell_type": "markdown",
   "metadata": {},
   "source": [
    "Display histogram to show class/label distribution across test data"
   ]
  },
  {
   "cell_type": "code",
   "execution_count": 6,
   "metadata": {},
   "outputs": [
    {
     "data": {
      "image/png": "[encoded data removed]",
      "text/plain": [
       "<matplotlib.figure.Figure at 0x1d9d6d5bcc0>"
      ]
     },
     "metadata": {},
     "output_type": "display_data"
    }
   ],
   "source": [
    "# Visulization of the histogram\n",
    "images_per_class_test, bins, _ = plt.hist(y_test,bins=range(n_classes+1), rwidth=0.8)\n",
    "plt.title('Test data histogram')\n",
    "plt.xlabel('Class')\n",
    "plt.ylabel('Counter')\n",
    "plt.axis([0, 43, 0, 800])\n",
    "plt.show()"
   ]
  },
  {
   "cell_type": "markdown",
   "metadata": {},
   "source": [
    "----\n",
    "\n",
    "## Step 2: Design and Test a Model Architecture\n",
    "\n",
    "Design and implement a deep learning model that learns to recognize traffic signs. Train and test your model on the [German Traffic Sign Dataset](http://benchmark.ini.rub.de/?section=gtsrb&subsection=dataset).\n",
    "\n",
    "The LeNet-5 implementation shown in the [classroom](https://classroom.udacity.com/nanodegrees/nd013/parts/fbf77062-5703-404e-b60c-95b78b2f3f9e/modules/6df7ae49-c61c-4bb2-a23e-6527e69209ec/lessons/601ae704-1035-4287-8b11-e2c2716217ad/concepts/d4aca031-508f-4e0b-b493-e7b706120f81) at the end of the CNN lesson is a solid starting point. You'll have to change the number of classes and possibly the preprocessing, but aside from that it's plug and play! \n",
    "\n",
    "With the LeNet-5 solution from the lecture, you should expect a validation set accuracy of about 0.89. To meet specifications, the validation set accuracy will need to be at least 0.93. It is possible to get an even higher accuracy, but 0.93 is the minimum for a successful project submission. \n",
    "\n",
    "There are various aspects to consider when thinking about this problem:\n",
    "\n",
    "- Neural network architecture (is the network over or underfitting?)\n",
    "- Play around preprocessing techniques (normalization, rgb to grayscale, etc)\n",
    "- Number of examples per label (some have more than others).\n",
    "- Generate fake data.\n",
    "\n",
    "Here is an example of a [published baseline model on this problem](http://yann.lecun.com/exdb/publis/pdf/sermanet-ijcnn-11.pdf). It's not required to be familiar with the approach used in the paper but, it's good practice to try to read papers like these."
   ]
  },
  {
   "cell_type": "markdown",
   "metadata": {},
   "source": [
    "### Pre-process the Data Set (normalization, grayscale, etc.)"
   ]
  },
  {
   "cell_type": "markdown",
   "metadata": {},
   "source": [
    "Minimally, the image data should be normalized so that the data has mean zero and equal variance. For image data, `(pixel - 128)/ 128` is a quick way to approximately normalize the data and can be used in this project. \n",
    "\n",
    "Other pre-processing steps are optional. You can try different techniques to see if it improves performance. \n",
    "\n",
    "Use the code cell (or multiple code cells, if necessary) to implement the first step of your project."
   ]
  },
  {
   "cell_type": "code",
   "execution_count": 7,
   "metadata": {},
   "outputs": [
    {
     "name": "stdout",
     "output_type": "stream",
     "text": [
      "Preprocess function defined\n"
     ]
    }
   ],
   "source": [
    "### Preprocess the data here. It is required to normalize the data. Other preprocessing steps could include \n",
    "### converting to grayscale, etc.\n",
    "\n",
    "# Define utility functions\n",
    "def center_normalize(img):\n",
    "    \"\"\"Center normalize images\"\"\"\n",
    "    img = img.astype('float32')\n",
    "    img = (img - 128)/128\n",
    "    return img\n",
    "\n",
    "\n",
    "def grayscale(image):\n",
    "    imgs = np.ndarray((image.shape[0], 32, 32, 1), dtype=np.uint8)\n",
    "    \n",
    "    for i, img in enumerate(image):\n",
    "        img = cv2.cvtColor(img, cv2.COLOR_BGR2GRAY)\n",
    "        img = cv2.equalizeHist(img)\n",
    "        img = np.expand_dims(img, axis=2)\n",
    "        imgs[i] = img\n",
    "    \n",
    "    return imgs\n",
    "\n",
    "\n",
    "def preprocess(img):\n",
    "    \"\"\"Convert to grayscale, and center normalize\"\"\"\n",
    "    img = grayscale(img)\n",
    "    img = center_normalize(img)\n",
    "    return img\n",
    "\n",
    "\n",
    "print('Preprocess function defined')"
   ]
  },
  {
   "cell_type": "markdown",
   "metadata": {},
   "source": [
    "### Training Data Augmentation"
   ]
  },
  {
   "cell_type": "markdown",
   "metadata": {},
   "source": [
    "The histogram of the number of images per classification category in the training dataset is illustrating a huge variance. To avoid our classifier biased towards the more frequent traffic signs, the training data shall be more equally distributed across the classes. So I generate more fake data using image transform to let each class have the same image number."
   ]
  },
  {
   "cell_type": "code",
   "execution_count": 8,
   "metadata": {},
   "outputs": [
    {
     "name": "stdout",
     "output_type": "stream",
     "text": [
      "Image transform function defined\n"
     ]
    }
   ],
   "source": [
    "### Generate additional data. With the method of random rotate, translate, shear, scale, brightness\n",
    "\n",
    "\n",
    "def image_rotate(img, angle):\n",
    "    \"\"\"Rotate the image by angle\"\"\"\n",
    "    rows, cols, dims = img.shape\n",
    "    matrix = cv2.getRotationMatrix2D((cols / 2, rows / 2), angle, 1)\n",
    "    return cv2.warpAffine(img, matrix, (cols, rows))\n",
    "\n",
    "\n",
    "def image_scale(img, scale):\n",
    "    \"\"\"Adjust the image size by scale\"\"\"\n",
    "    rows, cols, dims = img.shape\n",
    "    matrix = cv2.getRotationMatrix2D((cols/2, rows/2), 0, scale)\n",
    "    return cv2.warpAffine(image, matrix, (cols, rows))\n",
    "\n",
    "\n",
    "def image_translate(img, x, y):\n",
    "    \"\"\"Translate image by the value of x and y\"\"\"\n",
    "    rows, cols, dims = img.shape\n",
    "    matrix = np.float32([[1, 0, x], [0, 1, y]])\n",
    "    return cv2.warpAffine(img, matrix, (cols, rows))\n",
    "\n",
    "\n",
    "def image_shear(img, shear_range):\n",
    "    \"\"\"Shear image randomly by the factor of shear_range\"\"\"\n",
    "    rows, cols, dims = img.shape\n",
    "    \n",
    "    pts1 = np.float32([[5, 5],[20, 5],[5, 20]])\n",
    "\n",
    "    pt1 = 5 + shear_range * np.random.uniform() - shear_range / 2\n",
    "    pt2 = 20 + shear_range * np.random.uniform() - shear_range / 2\n",
    "\n",
    "    pts2 = np.float32([[pt1, 5], [pt2, pt1], [5, pt2]])\n",
    "\n",
    "    matrix = cv2.getAffineTransform(pts1, pts2)\n",
    "    \n",
    "    return cv2.warpAffine(img, matrix, (cols, rows))\n",
    "\n",
    "\n",
    "def image_brightness(image, factor):\n",
    "    \"\"\"Adjust the brightness of images by factor\"\"\"\n",
    "    hsv = cv2.cvtColor(image,cv2.COLOR_RGB2HSV)\n",
    "    hsv[:,:,2] = np.minimum(hsv[:,:,2] * factor, 255)\n",
    "    \n",
    "    return cv2.cvtColor(hsv,cv2.COLOR_HSV2RGB)\n",
    "\n",
    "\n",
    "def random_image_transform(image):\n",
    "    \"\"\"Transform image according to given parameters\"\"\"\n",
    "    randomAngle = random.uniform(-10, 10)\n",
    "    output = image_rotate(image, randomAngle)\n",
    "    \n",
    "    randomScale = random.uniform(0.8, 1.2)\n",
    "    output = image_scale(output, randomScale)\n",
    "    \n",
    "    randomFactor = random.uniform(0.5, 2.0)\n",
    "    output = image_brightness(output, randomFactor)\n",
    "\n",
    "    randomX = random.uniform(-2, 2)\n",
    "    randomY = random.uniform(-2, 2)\n",
    "    output = image_translate(output, randomX, randomY)\n",
    "    \n",
    "    randomShear = random.uniform(-5, 5)\n",
    "    output = image_shear(output, randomShear)\n",
    "    \n",
    "    return output\n",
    "\n",
    "\n",
    "print('Image transform function defined')"
   ]
  },
  {
   "cell_type": "markdown",
   "metadata": {},
   "source": [
    "Example for the visiulization result of one image after transform.\n",
    "The transform method includes:\n",
    "1. random rotate\n",
    "2. random scale\n",
    "3. random translate\n",
    "4. random shear\n",
    "5. random brightness\n",
    "\n",
    "The different transform examples can be seen here and these new images will be the augmentation data for training."
   ]
  },
  {
   "cell_type": "code",
   "execution_count": 9,
   "metadata": {},
   "outputs": [
    {
     "data": {
      "image/png": "[encoded data removed]",
      "text/plain": [
       "<matplotlib.figure.Figure at 0x1d9d6dbe5f8>"
      ]
     },
     "metadata": {},
     "output_type": "display_data"
    }
   ],
   "source": [
    "image = X_train[1234, :, :, :]\n",
    "\n",
    "transform_exmpl = [image,\n",
    "                   image_rotate(image, 10),\n",
    "                   image_scale(image, 1.2),\n",
    "                   image_translate(image, 2, -2),\n",
    "                   image_shear(image, 5),\n",
    "                   image_brightness(image, 2.0)]\n",
    "\n",
    "transform_title = ['Original', 'Rotate', 'Scale', 'Translate', 'Shear', 'Brightness']\n",
    "\n",
    "f2, cell2 = plt.subplots(1, 6, figsize=(8,5))\n",
    "for i in range(6):\n",
    "    cell2[i].imshow(transform_exmpl[i])\n",
    "    cell2[i].axis('off')\n",
    "    cell2[i].set_title(transform_title[i])"
   ]
  },
  {
   "cell_type": "markdown",
   "metadata": {},
   "source": [
    "Generate the image in each class to 2500. So every class will have the same number of images."
   ]
  },
  {
   "cell_type": "code",
   "execution_count": 10,
   "metadata": {},
   "outputs": [
    {
     "name": "stdout",
     "output_type": "stream",
     "text": [
      "New images generated\n"
     ]
    }
   ],
   "source": [
    "new_images_per_class = 2500\n",
    "new_images = []\n",
    "new_labels = []\n",
    "\n",
    "num_per_class = np.array(images_per_class_train)\n",
    "\n",
    "# Generate additional images until every class has the same number of images\n",
    "\n",
    "while np.sum(num_per_class) < n_classes * new_images_per_class:\n",
    "    for index, image in enumerate(X_train):\n",
    "        img_class = y_train[index]\n",
    "        \n",
    "        if num_per_class[img_class] < new_images_per_class:\n",
    "            new_images.append(random_image_transform(image))\n",
    "            new_labels.append(img_class)\n",
    "            num_per_class[img_class] += 1\n",
    "\n",
    "X_train_generated = np.append(X_train, new_images, axis=0)\n",
    "y_train_generated = np.append(y_train, new_labels, axis=0)\n",
    "\n",
    "X_train = X_train_generated\n",
    "y_train = y_train_generated\n",
    "\n",
    "print('New images generated')"
   ]
  },
  {
   "cell_type": "code",
   "execution_count": 11,
   "metadata": {},
   "outputs": [
    {
     "data": {
      "image/png": "[encoded data removed]",
      "text/plain": [
       "<matplotlib.figure.Figure at 0x1d9d6e5e240>"
      ]
     },
     "metadata": {},
     "output_type": "display_data"
    },
    {
     "name": "stdout",
     "output_type": "stream",
     "text": [
      "[ 2500.  2500.  2500.  2500.  2500.  2500.  2500.  2500.  2500.  2500.\n  2500.  2500.  2500.  2500.  2500.  2500.  2500.  2500.  2500.  2500.\n  2500.  2500.  2500.  2500.  2500.  2500.  2500.  2500.  2500.  2500.\n  2500.  2500.  2500.  2500.  2500.  2500.  2500.  2500.  2500.  2500.\n  2500.  2500.  2500.]\n"
     ]
    }
   ],
   "source": [
    "# Visulization of the generated signs' histogram\n",
    "images_per_class_train, bins, _ = plt.hist(y_train_generated,bins=range(n_classes+1), rwidth=0.8)\n",
    "plt.title('Training data histogram after generated')\n",
    "plt.xlabel('Class')\n",
    "plt.ylabel('Counter')\n",
    "plt.axis([0, 43, 0, 3000])\n",
    "plt.show()\n",
    "\n",
    "print(images_per_class_train)"
   ]
  },
  {
   "cell_type": "markdown",
   "metadata": {},
   "source": [
    "Preprocess all the training data after data augmentation. Now every class have 2500 images."
   ]
  },
  {
   "cell_type": "code",
   "execution_count": 12,
   "metadata": {},
   "outputs": [
    {
     "name": "stdout",
     "output_type": "stream",
     "text": [
      "Number of preprocessed training examples = 107500\nNumber of preprocessed validation examples = 4410\nNumber of testing examples = 12630\nImage data shape = (32, 32, 1)\n\n"
     ]
    }
   ],
   "source": [
    "# Preprocess the data\n",
    "X_train_preprocess = preprocess(X_train)\n",
    "X_valid_preprocess = preprocess(X_valid)\n",
    "X_test_preprocess = preprocess(X_test)\n",
    "\n",
    "print(\"Number of preprocessed training examples =\", X_train_preprocess.shape[0])\n",
    "print(\"Number of preprocessed validation examples =\", X_valid_preprocess.shape[0])\n",
    "print(\"Number of testing examples =\", X_test_preprocess.shape[0])\n",
    "print(\"Image data shape =\", X_train_preprocess.shape[1:4])\n",
    "print()"
   ]
  },
  {
   "cell_type": "code",
   "execution_count": 25,
   "metadata": {},
   "outputs": [],
   "source": [
    "# Visualize each traffic sign ones\n",
    "# after data augmentation and preprocess\n",
    "\n",
    "signs = []\n",
    "printed = []\n",
    "for index, val in enumerate(y_train):\n",
    "    if val not in printed:\n",
    "        printed.append(val)\n",
    "        signs.append((val, index))\n",
    "        \n",
    "signs.sort(key=lambda tup: tup[0])\n",
    "\n",
    "# Show a random collection of the preprocessed images\n",
    "fig = plt.figure()\n",
    "fig.set_figwidth(12)\n",
    "fig.set_figheight(5)\n",
    "\n",
    "for index, sign in enumerate(signs):\n",
    "    ax = fig.add_subplot(5, 10, index + 1)\n",
    "    ax.axis('off')\n",
    "    image = X_train_preprocess[sign[1]].squeeze()\n",
    "    ax.imshow(image, cmap='gray')"
   ]
  },
  {
   "cell_type": "markdown",
   "metadata": {},
   "source": [
    "### Model Architecture: Implement LeNet-5\n",
    "\n",
    "Implement the LeNet-5 neural network architecture.\n",
    "\n",
    "Architecture\n",
    "Input: Original image size is 32x32x1\n",
    "\n",
    "Layer 1: Convolutional. The output shape should be 28x28x6.\n",
    "\n",
    "Relu Activation. Pooling. The output shape should be 14x14x6.\n",
    "\n",
    "Layer 2: Convolutional. The output shape should be 10x10x16.\n",
    "\n",
    "Relu Activation. Pooling. The output shape should be 5x5x16.\n",
    "\n",
    "Flatten. Flatten the output shape of the final pooling layer 5x5x16 to 400.\n",
    "\n",
    "Layer 3: Fully Connected. This should have 120 outputs.\n",
    "\n",
    "Relu Activation. \n",
    "\n",
    "Layer 4: Fully Connected. This should have 84 outputs.\n",
    "\n",
    "Relu Activation. Dropout.\n",
    "\n",
    "Layer 5: Fully Connected (Logits). This should have 43 outputs.\n",
    "\n",
    "Output"
   ]
  },
  {
   "cell_type": "code",
   "execution_count": 14,
   "metadata": {},
   "outputs": [
    {
     "name": "stdout",
     "output_type": "stream",
     "text": [
      "Modle launched\n"
     ]
    }
   ],
   "source": [
    "### Define your architecture here.\n",
    "### Feel free to use as many code cells as needed.\n",
    "\n",
    "# Model Architecture, LeNet with dropout\n",
    "def LeNet(x, keep_prob):\n",
    "    # Layer 1: Convolutional. Input = 32x32x1. Output = 28x28x6.\n",
    "    W_conv1 = tf.Variable(tf.truncated_normal([5, 5, 1, 6], stddev=0.1))\n",
    "    b_conv1 = tf.Variable(tf.zeros([6]))\n",
    "    conv1 = tf.nn.conv2d(x, W_conv1, strides=[1, 1, 1, 1], padding='VALID') + b_conv1\n",
    "    conv1 = tf.nn.relu(conv1)\n",
    "\n",
    "    # Pooling 1: Input = 28x28x6. Output = 14x14x6.\n",
    "    pool1 = tf.nn.max_pool(conv1, ksize=[1, 2, 2, 1], strides=[1, 2, 2, 1], padding='VALID')\n",
    "\n",
    "    # Layer 2: Convolutional. Output = 10x10x16.\n",
    "    W_conv2 = tf.Variable(tf.truncated_normal([5, 5, 6, 16], stddev=0.1))\n",
    "    b_conv2 = tf.Variable(tf.zeros([16]))\n",
    "    conv2 = tf.nn.conv2d(pool1, W_conv2, strides=[1, 1, 1, 1], padding='VALID') + b_conv2\n",
    "    conv2 = tf.nn.relu(conv2)\n",
    "\n",
    "    # Pooling 2： Input = 10x10x16. Output = 5x5x16.\n",
    "    pool2 = tf.nn.max_pool(conv2, ksize=[1, 2, 2, 1], strides=[1, 2, 2, 1], padding= 'VALID')\n",
    "\n",
    "    # Flatten. Input = 5x5x16. Output = 400.\n",
    "    reshape = flatten(pool2)\n",
    "    \n",
    "    # Layer 3: Fully Connected. Input = 400. Output = 120.\n",
    "    W_fc1 = tf.Variable(tf.truncated_normal([400, 120], stddev=0.1))\n",
    "    b_fc1 = tf.Variable(tf.zeros([120]))\n",
    "    fc1 = tf.matmul(reshape, W_fc1) + b_fc1\n",
    "    fc1 = tf.nn.relu(fc1)\n",
    "\n",
    "    # Layer 4: Fully Connected. Input = 120. Output = 84.\n",
    "    W_fc2 = tf.Variable(tf.truncated_normal([120,84], stddev=0.1))\n",
    "    b_fc2 = tf.Variable(tf.zeros([84]))\n",
    "    fc2 = tf.matmul(fc1, W_fc2) + b_fc2\n",
    "    fc2 = tf.nn.relu(fc2)\n",
    "    \n",
    "    # Dropout\n",
    "    fc2 = tf.nn.dropout(fc2, keep_prob)\n",
    "\n",
    "    # Layer 5: Fully Connected. Input = 84. Output = 43.\n",
    "    W_fc3 = tf.Variable(tf.truncated_normal([84, n_classes], stddev=0.1))\n",
    "    b_fc3 = tf.Variable(tf.zeros([n_classes]))\n",
    "    logits = tf.matmul(fc2, W_fc3) + b_fc3\n",
    "    \n",
    "    return logits\n",
    "\n",
    "print('Modle launched')"
   ]
  },
  {
   "cell_type": "markdown",
   "metadata": {},
   "source": [
    "### Model Evaluation\n",
    "Evaluate how well the loss and accuracy of the model for a given dataset."
   ]
  },
  {
   "cell_type": "code",
   "execution_count": 15,
   "metadata": {
    "collapsed": true
   },
   "outputs": [],
   "source": [
    "# Parameters\n",
    "LEARNING_RATE = 0.001\n",
    "EPOCHS = 50\n",
    "BATCH_SIZE = 128\n",
    "DROPOUT = 0.5\n",
    "\n",
    "# Data placeholders\n",
    "x = tf.placeholder(tf.float32, (None, 32, 32, 1))\n",
    "y = tf.placeholder(tf.int32, (None))\n",
    "keep_prob = tf.placeholder(tf.float32)\n",
    "\n",
    "# Model\n",
    "logits = LeNet(x, keep_prob)\n",
    "one_hot_y = tf.one_hot(y, n_classes)\n",
    "\n",
    "# Loss and Optimizer\n",
    "cross_entropy = tf.nn.softmax_cross_entropy_with_logits(logits=logits, labels=one_hot_y)\n",
    "cost = tf.reduce_mean(cross_entropy)\n",
    "optimizer = tf.train.AdamOptimizer(learning_rate=LEARNING_RATE)\n",
    "train_op = optimizer.minimize(cost)\n",
    "\n",
    "# Accuracy\n",
    "correct_prediction = tf.equal(tf.argmax(logits,1), tf.argmax(one_hot_y,1))\n",
    "accuracy_op = tf.reduce_mean(tf.cast(correct_prediction, tf.float32))\n",
    "\n",
    "def evaluate(X_data, y_data):\n",
    "    \"\"\"Evaluate the model accuracy\"\"\"\n",
    "    num_examples = len(X_data)\n",
    "    total_accuracy = 0\n",
    "    sess = tf.get_default_session()\n",
    "    for offset in range(0, num_examples, BATCH_SIZE):\n",
    "        batch_x, batch_y = X_data[offset:offset+BATCH_SIZE], y_data[offset:offset+BATCH_SIZE]\n",
    "        accuracy = sess.run(accuracy_op, feed_dict={x: batch_x, y: batch_y, keep_prob: 1.0})\n",
    "        total_accuracy += (accuracy * len(batch_x))\n",
    "    return total_accuracy / num_examples\n",
    "\n",
    "print('Train thr model')"
   ]
  },
  {
   "cell_type": "markdown",
   "metadata": {},
   "source": [
    "### Train, Validate and Test the Model"
   ]
  },
  {
   "cell_type": "markdown",
   "metadata": {},
   "source": [
    "A validation set can be used to assess how well the model is performing. A low accuracy on the training and validation\n",
    "sets imply underfitting. A high accuracy on the training set but low accuracy on the validation set implies overfitting."
   ]
  },
  {
   "cell_type": "code",
   "execution_count": 16,
   "metadata": {},
   "outputs": [
    {
     "name": "stdout",
     "output_type": "stream",
     "text": [
      "Start Training....\n"
     ]
    },
    {
     "name": "stdout",
     "output_type": "stream",
     "text": [
      "EPOCH 5 ...\nValidation Accuracy = 0.955\n"
     ]
    },
    {
     "name": "stdout",
     "output_type": "stream",
     "text": [
      "EPOCH 10 ...\nValidation Accuracy = 0.963\n"
     ]
    },
    {
     "name": "stdout",
     "output_type": "stream",
     "text": [
      "EPOCH 15 ...\nValidation Accuracy = 0.967\n"
     ]
    },
    {
     "name": "stdout",
     "output_type": "stream",
     "text": [
      "EPOCH 20 ...\nValidation Accuracy = 0.974\n"
     ]
    },
    {
     "name": "stdout",
     "output_type": "stream",
     "text": [
      "EPOCH 25 ...\nValidation Accuracy = 0.971\n"
     ]
    },
    {
     "name": "stdout",
     "output_type": "stream",
     "text": [
      "EPOCH 30 ...\nValidation Accuracy = 0.976\n"
     ]
    },
    {
     "name": "stdout",
     "output_type": "stream",
     "text": [
      "EPOCH 35 ...\nValidation Accuracy = 0.973\n"
     ]
    },
    {
     "name": "stdout",
     "output_type": "stream",
     "text": [
      "EPOCH 40 ...\nValidation Accuracy = 0.971\n"
     ]
    },
    {
     "name": "stdout",
     "output_type": "stream",
     "text": [
      "EPOCH 45 ...\nValidation Accuracy = 0.968\n"
     ]
    },
    {
     "name": "stdout",
     "output_type": "stream",
     "text": [
      "EPOCH 50 ...\nValidation Accuracy = 0.972\n"
     ]
    },
    {
     "name": "stdout",
     "output_type": "stream",
     "text": [
      "Test Accuracy = 0.936\n"
     ]
    },
    {
     "name": "stdout",
     "output_type": "stream",
     "text": [
      "Model saved\n"
     ]
    }
   ],
   "source": [
    "### Train your model here.\n",
    "### Calculate and report the accuracy on the training and validation set.\n",
    "### Once a final model architecture is selected, \n",
    "### the accuracy on the test set should be calculated and reported as well.\n",
    "\n",
    "saver = tf.train.Saver()\n",
    "# Start the session for training and evaluation\n",
    "with tf.Session() as sess:\n",
    "    sess.run(tf.global_variables_initializer())\n",
    "    num_examples = len(X_train)\n",
    "    print('Start Training....')\n",
    "    for epoch in range(EPOCHS):\n",
    "        X_train_shuffled, y_train_shuffled = shuffle(X_train_preprocess, y_train)\n",
    "        for offset in range(0, num_examples, BATCH_SIZE):\n",
    "            end = offset + BATCH_SIZE\n",
    "            batch_x, batch_y = (X_train_shuffled[offset: end], y_train_shuffled[offset: end])\n",
    "            sess.run(train_op, feed_dict={x: batch_x, y: batch_y, keep_prob: DROPOUT})\n",
    "            \n",
    "        if (epoch+1) % 5 == 0:\n",
    "            validation_accuracy = evaluate(X_valid_preprocess, y_valid)\n",
    "            print(\"EPOCH {} ...\".format(epoch+1))\n",
    "            print(\"Validation Accuracy = {:.3f}\".format(validation_accuracy))\n",
    "    \n",
    "    test_accuracy = evaluate(X_test_preprocess, y_test)\n",
    "    print(\"Test Accuracy = {:.3f}\".format(test_accuracy))\n",
    "        \n",
    "    saver.save(sess, './lenet')\n",
    "    print(\"Model saved\")"
   ]
  },
  {
   "cell_type": "code",
   "execution_count": null,
   "metadata": {
    "collapsed": true
   },
   "outputs": [],
   "source": [
    "# Solution Approach\n",
    "'''\n",
    "1st:\n",
    "    - Standard LeNet5 (C6 - C16 - FC120 - FC84 - SM43)\n",
    "    - Preprocessing: no\n",
    "    - Batchsize = 128, Epochs = 10, LearningRate = 0.005\n",
    "    - Validation Accuracy = 0.819\n",
    "    - Test Accuracy = 0.799\n",
    "2nd:\n",
    "    - Standard LeNet5 (C6 - C16 - FC120 - FC84 - SM43)\n",
    "    - Preprocessing: normalization\n",
    "    - Batchsize = 128, Epochs = 10, LearningRate = 0.005\n",
    "    - Validation Accuracy = 0.922\n",
    "    - Test Accuracy = 0.908\n",
    "3rd:\n",
    "    - Standard LeNet5 (C6 - C16 - FC120 - FC84 - SM43)\n",
    "    - Preprocessing: normalization, greyscale, equalhist\n",
    "    - Batchsize = 128, Epochs = 10, LearningRate = 0.005\n",
    "    - Validation Accuracy = 0.941\n",
    "    - Test Accuracy = 0.927\n",
    "4th    \n",
    "    - Standard LeNet5 (C6 - C16 - FC120 - FC84 - SM43) \n",
    "    - Preprocessing: normalization, greyscale\n",
    "    - Batchsize = 128, Epochs = 50, LearningRate = 0.001\n",
    "    - Validation Accuracy = 0.952\n",
    "    - Test Accuracy = 0.927\n",
    "5th    \n",
    "    - Standard LeNet5 (C6 - C16 - FC120 - FC84 - SM43) \n",
    "    - Preprocessing: normalization, greyscale\n",
    "    - Data Augmentation: random transform to the same number for every class\n",
    "    - Batchsize = 128, Epochs = 50, LearningRate = 0.001\n",
    "    - Validation Accuracy = 0.970\n",
    "    - Test Accuracy = 0.942\n",
    "'''"
   ]
  },
  {
   "cell_type": "markdown",
   "metadata": {},
   "source": [
    "---\n",
    "\n",
    "## Step 3: Test a Model on New Images\n",
    "\n",
    "To give yourself more insight into how your model is working, download at least five pictures of German traffic signs from the web and use your model to predict the traffic sign type.\n",
    "\n",
    "You may find `signnames.csv` useful as it contains mappings from the class id (integer) to the actual sign name."
   ]
  },
  {
   "cell_type": "markdown",
   "metadata": {},
   "source": [
    "### Load and Output the Images"
   ]
  },
  {
   "cell_type": "code",
   "execution_count": 28,
   "metadata": {},
   "outputs": [
    {
     "data": {
      "image/png": "[encoded data removed]",
      "text/plain": [
       "<matplotlib.figure.Figure at 0x1dab64371d0>"
      ]
     },
     "metadata": {},
     "output_type": "display_data"
    }
   ],
   "source": [
    "### Load the images and plot them here.\n",
    "### Feel free to use as many code cells as needed.\n",
    "\n",
    "#importing some useful packages\n",
    "\n",
    "import glob\n",
    "import matplotlib.pyplot as plt\n",
    "import matplotlib.gridspec as gridspec\n",
    "import cv2\n",
    "%matplotlib inline\n",
    "\n",
    "import tensorflow as tf\n",
    "\n",
    "from pandas.io.parsers import read_csv\n",
    "\n",
    "ImagePath = './test/*.png'\n",
    "test_images = []\n",
    "\n",
    "for index, img in enumerate(glob.glob(ImagePath)):\n",
    "    image = cv2.imread(img)\n",
    "    image = cv2.resize(image, (32, 32))\n",
    "    image = cv2.cvtColor(image, cv2.COLOR_BGR2RGB)\n",
    "    test_images.append(image)\n",
    "\n",
    "# Show original test images\n",
    "fig = plt.figure()\n",
    "fig.set_figwidth(10)\n",
    "fig.set_figheight(3)\n",
    "\n",
    "for index, image in enumerate(test_images):\n",
    "    ax = fig.add_subplot(2, 10, index + 1)\n",
    "    ax.axis('off')\n",
    "    ax.imshow(image)"
   ]
  },
  {
   "cell_type": "code",
   "execution_count": 29,
   "metadata": {},
   "outputs": [
    {
     "data": {
      "image/png": "[encoded data removed]",
      "text/plain": [
       "<matplotlib.figure.Figure at 0x1dab3736e80>"
      ]
     },
     "metadata": {},
     "output_type": "display_data"
    }
   ],
   "source": [
    "# Pre-process the test images\n",
    "X_test_new = np.array(test_images)\n",
    "X_test_new = preprocess(X_test_new)\n",
    "\n",
    "# Show preprocessed test images\n",
    "fig = plt.figure()\n",
    "fig.set_figwidth(10)\n",
    "fig.set_figheight(3)\n",
    "\n",
    "for index, image in enumerate(X_test_new):\n",
    "    ax = fig.add_subplot(2, 10, index + 1)\n",
    "    ax.axis('off')\n",
    "    image = X_test_new[index].squeeze()\n",
    "    ax.imshow(image, cmap='gray')"
   ]
  },
  {
   "cell_type": "markdown",
   "metadata": {},
   "source": [
    "### Predict the Sign Type for Each Image"
   ]
  },
  {
   "cell_type": "code",
   "execution_count": 30,
   "metadata": {
    "collapsed": true
   },
   "outputs": [
    {
     "name": "stdout",
     "output_type": "stream",
     "text": [
      "INFO:tensorflow:Restoring parameters from ./lenet\n"
     ]
    },
    {
     "name": "stdout",
     "output_type": "stream",
     "text": [
      "Pedestrians (99.48%)\nTurn right ahead (93.23%)\nGeneral caution (21.92%)\nKeep right (100.00%)\nSpeed limit (50km/h) (100.00%)\nNo passing for vehicles over 3.5 metric tons (100.00%)\nSpeed limit (20km/h) (100.00%)\nRight-of-way at the next intersection (100.00%)\n"
     ]
    }
   ],
   "source": [
    "### Run the predictions here and use the model to output the prediction for each image.\n",
    "### Make sure to pre-process the images with the same pre-processing pipeline used earlier.\n",
    "### Feel free to use as many code cells as needed.\n",
    "\n",
    "# Get the sign name for each classification class\n",
    "signnames = read_csv(\"signnames.csv\").values[:, 1]\n",
    "saver = tf.train.Saver\n",
    "\n",
    "with tf.Session() as sess:\n",
    "    saver = tf.train.import_meta_graph('./lenet.meta')\n",
    "    saver.restore(sess, save_path='./lenet')\n",
    "    \n",
    "    # Calculate the top 5\n",
    "    softmax_logits = tf.nn.softmax(logits)\n",
    "    top_5 = tf.nn.top_k(softmax_logits, k=5)\n",
    "    top_5_pred = sess.run(top_5, feed_dict={x: X_test_new, keep_prob: 1.0})\n",
    "    \n",
    "    values = top_5_pred.values\n",
    "    indices = top_5_pred.indices\n",
    "    \n",
    "    for i, image in enumerate(X_test_new):\n",
    "        predict = values[i][0]\n",
    "        signname = signnames[indices[i][0].astype(int)]\n",
    "        # print the sign name and its probability\n",
    "        print('{} ({:.2f}%)'.format(signname, 100*predict))"
   ]
  },
  {
   "cell_type": "markdown",
   "metadata": {},
   "source": [
    "### Analyze Performance\n",
    "The prediction result:\n",
    "1st image: Pedestrians right!\n",
    "2nd image: Stop        wrong!\n",
    "3rd image: Roundabout mandatory wrong!\n",
    "4th image: Keep right  right!\n",
    "5th image: Speed limit 50km/h right!\n",
    "6th image: Stop        wrong!\n",
    "7th image: Speed limit 30km/h wrong!\n",
    "8th image: Right-of-way at the next intersection right!"
   ]
  },
  {
   "cell_type": "code",
   "execution_count": 31,
   "metadata": {
    "collapsed": true
   },
   "outputs": [
    {
     "name": "stdout",
     "output_type": "stream",
     "text": [
      "The accuracy is 62.5 %\n"
     ]
    }
   ],
   "source": [
    "### Calculate the accuracy for these 5 new images. \n",
    "### For example, if the model predicted 1 out of 5 signs correctly, it's 20% accurate on these new images.\n",
    "new_image_accuracy = 5/8\n",
    "print('The accuracy is', new_image_accuracy*100, '%')"
   ]
  },
  {
   "cell_type": "markdown",
   "metadata": {},
   "source": [
    "### Output Top 5 Softmax Probabilities For Each Image Found on the Web"
   ]
  },
  {
   "cell_type": "markdown",
   "metadata": {},
   "source": [
    "For each of the new images, print out the model's softmax probabilities to show the **certainty** of the model's predictions (limit the output to the top 5 probabilities for each image). [`tf.nn.top_k`](https://www.tensorflow.org/versions/r0.12/api_docs/python/nn.html#top_k) could prove helpful here. \n",
    "\n",
    "The example below demonstrates how tf.nn.top_k can be used to find the top k predictions for each image.\n",
    "\n",
    "`tf.nn.top_k` will return the values and indices (class ids) of the top k predictions. So if k=3, for each sign, it'll return the 3 largest probabilities (out of a possible 43) and the correspoding class ids.\n",
    "\n",
    "Take this numpy array as an example. The values in the array represent predictions. The array contains softmax probabilities for five candidate images with six possible classes. `tk.nn.top_k` is used to choose the three classes with the highest probability:\n",
    "\n",
    "```\n",
    "# (5, 6) array\n",
    "a = np.array([[ 0.24879643,  0.07032244,  0.12641572,  0.34763842,  0.07893497,\n",
    "         0.12789202],\n",
    "       [ 0.28086119,  0.27569815,  0.08594638,  0.0178669 ,  0.18063401,\n",
    "         0.15899337],\n",
    "       [ 0.26076848,  0.23664738,  0.08020603,  0.07001922,  0.1134371 ,\n",
    "         0.23892179],\n",
    "       [ 0.11943333,  0.29198961,  0.02605103,  0.26234032,  0.1351348 ,\n",
    "         0.16505091],\n",
    "       [ 0.09561176,  0.34396535,  0.0643941 ,  0.16240774,  0.24206137,\n",
    "         0.09155967]])\n",
    "```\n",
    "\n",
    "Running it through `sess.run(tf.nn.top_k(tf.constant(a), k=3))` produces:\n",
    "\n",
    "```\n",
    "TopKV2(values=array([[ 0.34763842,  0.24879643,  0.12789202],\n",
    "       [ 0.28086119,  0.27569815,  0.18063401],\n",
    "       [ 0.26076848,  0.23892179,  0.23664738],\n",
    "       [ 0.29198961,  0.26234032,  0.16505091],\n",
    "       [ 0.34396535,  0.24206137,  0.16240774]]), indices=array([[3, 0, 5],\n",
    "       [0, 1, 4],\n",
    "       [0, 5, 1],\n",
    "       [1, 3, 5],\n",
    "       [1, 4, 3]], dtype=int32))\n",
    "```\n",
    "\n",
    "Looking just at the first row we get `[ 0.34763842,  0.24879643,  0.12789202]`, you can confirm these are the 3 largest probabilities in `a`. You'll also notice `[3, 0, 5]` are the corresponding indices."
   ]
  },
  {
   "cell_type": "code",
   "execution_count": 39,
   "metadata": {
    "collapsed": true
   },
   "outputs": [
    {
     "name": "stdout",
     "output_type": "stream",
     "text": [
      "Image 1\nPedestrians (99.48%)\nGeneral caution (0.30%)\nRoad narrows on the right (0.22%)\nDouble curve (0.00%)\nRoad work (0.00%)\n\nImage 2\nTurn right ahead (93.23%)\nStop (6.74%)\nNo vehicles (0.03%)\nYield (0.01%)\nAhead only (0.00%)\n\nImage 3\nGeneral caution (21.92%)\nChildren crossing (15.51%)\nSpeed limit (30km/h) (14.48%)\nWild animals crossing (11.53%)\nSlippery road (10.13%)\n\nImage 4\nKeep right (100.00%)\nStop (0.00%)\nTurn left ahead (0.00%)\nSpeed limit (20km/h) (0.00%)\nGo straight or right (0.00%)\n\nImage 5\nSpeed limit (50km/h) (100.00%)\nSpeed limit (30km/h) (0.00%)\nSpeed limit (80km/h) (0.00%)\nSpeed limit (100km/h) (0.00%)\nRoundabout mandatory (0.00%)\n\nImage 6\nNo passing for vehicles over 3.5 metric tons (100.00%)\nSpeed limit (80km/h) (0.00%)\nSpeed limit (60km/h) (0.00%)\nKeep right (0.00%)\nEnd of no passing by vehicles over 3.5 metric tons (0.00%)\n\nImage 7\nSpeed limit (20km/h) (100.00%)\nSpeed limit (120km/h) (0.00%)\nSpeed limit (30km/h) (0.00%)\nSpeed limit (60km/h) (0.00%)\nSpeed limit (80km/h) (0.00%)\n\nImage 8\nRight-of-way at the next intersection (100.00%)\nDouble curve (0.00%)\nRoundabout mandatory (0.00%)\nBeware of ice/snow (0.00%)\nNo passing for vehicles over 3.5 metric tons (0.00%)\n\n"
     ]
    }
   ],
   "source": [
    "### Print out the top five softmax probabilities for the predictions on the German traffic sign images found on the web. \n",
    "### Feel free to use as many code cells as needed.\n",
    "\n",
    "# Top 5 softmax possibilities have been calculated above, now the output is visualized here.\n",
    "for i, image in enumerate(X_test_new):\n",
    "    print('Image', i+1)\n",
    "    for num in range(0, 5):\n",
    "        predict = values[i][num]\n",
    "        signname = signnames[indices[i][num].astype(int)]\n",
    "        # print the sign name and its probability\n",
    "        print('{} ({:.2f}%)'.format(signname, 100*predict))\n",
    "    print()"
   ]
  },
  {
   "cell_type": "markdown",
   "metadata": {},
   "source": [
    "### Project Writeup\n",
    "\n",
    "Once you have completed the code implementation, document your results in a project writeup using this [template](https://github.com/udacity/CarND-Traffic-Sign-Classifier-Project/blob/master/writeup_template.md) as a guide. The writeup can be in a markdown or pdf file. "
   ]
  },
  {
   "cell_type": "markdown",
   "metadata": {},
   "source": [
    "> **Note**: Once you have completed all of the code implementations and successfully answered each question above, you may finalize your work by exporting the iPython Notebook as an HTML document. You can do this by using the menu above and navigating to  \\n\",\n",
    "    \"**File -> Download as -> HTML (.html)**. Include the finished document along with this notebook as your submission."
   ]
  },
  {
   "cell_type": "markdown",
   "metadata": {},
   "source": [
    "---\n",
    "\n",
    "## Step 4 (Optional): Visualize the Neural Network's State with Test Images\n",
    "\n",
    " This Section is not required to complete but acts as an additional excersise for understaning the output of a neural network's weights. While neural networks can be a great learning device they are often referred to as a black box. We can understand what the weights of a neural network look like better by plotting their feature maps. After successfully training your neural network you can see what it's feature maps look like by plotting the output of the network's weight layers in response to a test stimuli image. From these plotted feature maps, it's possible to see what characteristics of an image the network finds interesting. For a sign, maybe the inner network feature maps react with high activation to the sign's boundary outline or to the contrast in the sign's painted symbol.\n",
    "\n",
    " Provided for you below is the function code that allows you to get the visualization output of any tensorflow weight layer you want. The inputs to the function should be a stimuli image, one used during training or a new one you provided, and then the tensorflow variable name that represents the layer's state during the training process, for instance if you wanted to see what the [LeNet lab's](https://classroom.udacity.com/nanodegrees/nd013/parts/fbf77062-5703-404e-b60c-95b78b2f3f9e/modules/6df7ae49-c61c-4bb2-a23e-6527e69209ec/lessons/601ae704-1035-4287-8b11-e2c2716217ad/concepts/d4aca031-508f-4e0b-b493-e7b706120f81) feature maps looked like for it's second convolutional layer you could enter conv2 as the tf_activation variable.\n",
    "\n",
    "For an example of what feature map outputs look like, check out NVIDIA's results in their paper [End-to-End Deep Learning for Self-Driving Cars](https://devblogs.nvidia.com/parallelforall/deep-learning-self-driving-cars/) in the section Visualization of internal CNN State. NVIDIA was able to show that their network's inner weights had high activations to road boundary lines by comparing feature maps from an image with a clear path to one without. Try experimenting with a similar test to show that your trained network's weights are looking for interesting features, whether it's looking at differences in feature maps from images with or without a sign, or even what feature maps look like in a trained network vs a completely untrained one on the same sign image.\n",
    "\n",
    "<figure>\n",
    " <img src=\"visualize_cnn.png\" width=\"380\" alt=\"Combined Image\" />\n",
    " <figcaption>\n",
    " <p></p> \n",
    " <p style=\"text-align: center;\"> Your output should look something like this (above)</p> \n",
    " </figcaption>\n",
    "</figure>\n",
    " <p></p> \n"
   ]
  },
  {
   "cell_type": "code",
   "execution_count": null,
   "metadata": {
    "collapsed": true
   },
   "outputs": [],
   "source": [
    "### Visualize your network's feature maps here.\n",
    "### Feel free to use as many code cells as needed.\n",
    "\n",
    "# image_input: the test image being fed into the network to produce the feature maps\n",
    "# tf_activation: should be a tf variable name used during your training procedure that represents the calculated state of a specific weight layer\n",
    "# activation_min/max: can be used to view the activation contrast in more detail, by default matplot sets min and max to the actual min and max values of the output\n",
    "# plt_num: used to plot out multiple different weight feature map sets on the same block, just extend the plt number for each new feature map entry\n",
    "\n",
    "def outputFeatureMap(image_input, tf_activation, activation_min=-1, activation_max=-1 ,plt_num=1):\n",
    "    # Here make sure to preprocess your image_input in a way your network expects\n",
    "    # with size, normalization, ect if needed\n",
    "    # image_input =\n",
    "    # Note: x should be the same name as your network's tensorflow data placeholder variable\n",
    "    # If you get an error tf_activation is not defined it may be having trouble accessing the variable from inside a function\n",
    "    activation = tf_activation.eval(session=sess,feed_dict={x : image_input})\n",
    "    featuremaps = activation.shape[3]\n",
    "    plt.figure(plt_num, figsize=(15,15))\n",
    "    for featuremap in range(featuremaps):\n",
    "        plt.subplot(6,8, featuremap+1) # sets the number of feature maps to show on each row and column\n",
    "        plt.title('FeatureMap ' + str(featuremap)) # displays the feature map number\n",
    "        if activation_min != -1 & activation_max != -1:\n",
    "            plt.imshow(activation[0,:,:, featuremap], interpolation=\"nearest\", vmin =activation_min, vmax=activation_max, cmap=\"gray\")\n",
    "        elif activation_max != -1:\n",
    "            plt.imshow(activation[0,:,:, featuremap], interpolation=\"nearest\", vmax=activation_max, cmap=\"gray\")\n",
    "        elif activation_min !=-1:\n",
    "            plt.imshow(activation[0,:,:, featuremap], interpolation=\"nearest\", vmin=activation_min, cmap=\"gray\")\n",
    "        else:\n",
    "            plt.imshow(activation[0,:,:, featuremap], interpolation=\"nearest\", cmap=\"gray\")"
   ]
  }
 ],
 "metadata": {
  "anaconda-cloud": {},
  "kernelspec": {
   "display_name": "Python 3",
   "language": "python",
   "name": "python3"
  },
  "language_info": {
   "codemirror_mode": {
    "name": "ipython",
    "version": 3.0
   },
   "file_extension": ".py",
   "mimetype": "text/x-python",
   "name": "python",
   "nbconvert_exporter": "python",
   "pygments_lexer": "ipython3",
   "version": "3.5.3"
  }
 },
 "nbformat": 4,
 "nbformat_minor": 0
}